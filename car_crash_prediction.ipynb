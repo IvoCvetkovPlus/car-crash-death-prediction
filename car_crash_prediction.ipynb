{
 "cells": [
  {
   "cell_type": "code",
   "execution_count": 350,
   "id": "b0218cb0",
   "metadata": {},
   "outputs": [],
   "source": [
    "import pandas as pd\n",
    "import numpy as np\n",
    "from sklearn.model_selection import train_test_split\n",
    "from sklearn.neighbors import KNeighborsClassifier\n",
    "from sklearn.svm import SVC\n",
    "from sklearn.naive_bayes import GaussianNB\n",
    "from sklearn.metrics import accuracy_score"
   ]
  },
  {
   "cell_type": "markdown",
   "id": "cd19592b",
   "metadata": {},
   "source": [
    "###REMOVE WARNING BECAUSE OF PANDAS ANNOYING WARNING WHEN ENUMERATE STRINGS..(you can remove it if you want)"
   ]
  },
  {
   "cell_type": "code",
   "execution_count": 167,
   "id": "2438b243",
   "metadata": {},
   "outputs": [],
   "source": [
    "import warnings\n",
    "warnings.filterwarnings('ignore')"
   ]
  },
  {
   "cell_type": "code",
   "execution_count": 168,
   "id": "37341709",
   "metadata": {},
   "outputs": [],
   "source": [
    "train_set = r\"C:\\Users\\user\\Desktop\\database exercises\\car crash\\archive\\train-new.csv\"\n",
    "test_set = r\"C:\\Users\\user\\Desktop\\database exercises\\car crash\\archive\\test-new.csv\""
   ]
  },
  {
   "cell_type": "code",
   "execution_count": 169,
   "id": "59013d68",
   "metadata": {},
   "outputs": [],
   "source": [
    "df1 = pd.read_csv(train_set)"
   ]
  },
  {
   "cell_type": "code",
   "execution_count": 170,
   "id": "08ca99b5",
   "metadata": {},
   "outputs": [],
   "source": [
    "df2 = pd.read_csv(test_set)"
   ]
  },
  {
   "cell_type": "code",
   "execution_count": 171,
   "id": "ad20721a",
   "metadata": {},
   "outputs": [],
   "source": [
    "\n",
    "df2 = df2.drop(['dvcat'],axis=1)"
   ]
  },
  {
   "cell_type": "code",
   "execution_count": 172,
   "id": "7951c15e",
   "metadata": {},
   "outputs": [
    {
     "data": {
      "text/plain": [
       "(8652, 13)"
      ]
     },
     "execution_count": 172,
     "metadata": {},
     "output_type": "execute_result"
    }
   ],
   "source": [
    "df2.shape"
   ]
  },
  {
   "cell_type": "code",
   "execution_count": 352,
   "id": "389431de",
   "metadata": {},
   "outputs": [
    {
     "data": {
      "text/html": [
       "<div>\n",
       "<style scoped>\n",
       "    .dataframe tbody tr th:only-of-type {\n",
       "        vertical-align: middle;\n",
       "    }\n",
       "\n",
       "    .dataframe tbody tr th {\n",
       "        vertical-align: top;\n",
       "    }\n",
       "\n",
       "    .dataframe thead th {\n",
       "        text-align: right;\n",
       "    }\n",
       "</style>\n",
       "<table border=\"1\" class=\"dataframe\">\n",
       "  <thead>\n",
       "    <tr style=\"text-align: right;\">\n",
       "      <th></th>\n",
       "      <th>weight</th>\n",
       "      <th>dead</th>\n",
       "      <th>airbag</th>\n",
       "      <th>seatbelt</th>\n",
       "      <th>frontal</th>\n",
       "      <th>sex</th>\n",
       "      <th>ageOFocc</th>\n",
       "      <th>yearacc</th>\n",
       "      <th>yearVeh</th>\n",
       "      <th>abcat</th>\n",
       "      <th>occRole</th>\n",
       "      <th>deploy</th>\n",
       "      <th>caseid</th>\n",
       "    </tr>\n",
       "  </thead>\n",
       "  <tbody>\n",
       "    <tr>\n",
       "      <th>0</th>\n",
       "      <td>18.895</td>\n",
       "      <td>alive</td>\n",
       "      <td>airbag</td>\n",
       "      <td>belted</td>\n",
       "      <td>0</td>\n",
       "      <td>m</td>\n",
       "      <td>25</td>\n",
       "      <td>2002</td>\n",
       "      <td>2000.0</td>\n",
       "      <td>deploy</td>\n",
       "      <td>pass</td>\n",
       "      <td>1</td>\n",
       "      <td>81:99:1</td>\n",
       "    </tr>\n",
       "    <tr>\n",
       "      <th>1</th>\n",
       "      <td>266.532</td>\n",
       "      <td>alive</td>\n",
       "      <td>none</td>\n",
       "      <td>none</td>\n",
       "      <td>1</td>\n",
       "      <td>f</td>\n",
       "      <td>28</td>\n",
       "      <td>2001</td>\n",
       "      <td>1991.0</td>\n",
       "      <td>unavail</td>\n",
       "      <td>driver</td>\n",
       "      <td>0</td>\n",
       "      <td>76:12:2</td>\n",
       "    </tr>\n",
       "    <tr>\n",
       "      <th>2</th>\n",
       "      <td>51.810</td>\n",
       "      <td>alive</td>\n",
       "      <td>airbag</td>\n",
       "      <td>belted</td>\n",
       "      <td>1</td>\n",
       "      <td>f</td>\n",
       "      <td>36</td>\n",
       "      <td>1999</td>\n",
       "      <td>1994.0</td>\n",
       "      <td>deploy</td>\n",
       "      <td>driver</td>\n",
       "      <td>1</td>\n",
       "      <td>78:53:2</td>\n",
       "    </tr>\n",
       "    <tr>\n",
       "      <th>3</th>\n",
       "      <td>1567.626</td>\n",
       "      <td>alive</td>\n",
       "      <td>airbag</td>\n",
       "      <td>belted</td>\n",
       "      <td>0</td>\n",
       "      <td>f</td>\n",
       "      <td>24</td>\n",
       "      <td>2002</td>\n",
       "      <td>1994.0</td>\n",
       "      <td>nodeploy</td>\n",
       "      <td>driver</td>\n",
       "      <td>0</td>\n",
       "      <td>11:47:1</td>\n",
       "    </tr>\n",
       "    <tr>\n",
       "      <th>4</th>\n",
       "      <td>31.342</td>\n",
       "      <td>alive</td>\n",
       "      <td>none</td>\n",
       "      <td>none</td>\n",
       "      <td>1</td>\n",
       "      <td>f</td>\n",
       "      <td>46</td>\n",
       "      <td>1997</td>\n",
       "      <td>1990.0</td>\n",
       "      <td>unavail</td>\n",
       "      <td>pass</td>\n",
       "      <td>0</td>\n",
       "      <td>12:87:2</td>\n",
       "    </tr>\n",
       "  </tbody>\n",
       "</table>\n",
       "</div>"
      ],
      "text/plain": [
       "     weight   dead  airbag seatbelt  frontal sex  ageOFocc  yearacc  yearVeh  \\\n",
       "0    18.895  alive  airbag   belted        0   m        25     2002   2000.0   \n",
       "1   266.532  alive    none     none        1   f        28     2001   1991.0   \n",
       "2    51.810  alive  airbag   belted        1   f        36     1999   1994.0   \n",
       "3  1567.626  alive  airbag   belted        0   f        24     2002   1994.0   \n",
       "4    31.342  alive    none     none        1   f        46     1997   1990.0   \n",
       "\n",
       "      abcat occRole  deploy   caseid  \n",
       "0    deploy    pass       1  81:99:1  \n",
       "1   unavail  driver       0  76:12:2  \n",
       "2    deploy  driver       1  78:53:2  \n",
       "3  nodeploy  driver       0  11:47:1  \n",
       "4   unavail    pass       0  12:87:2  "
      ]
     },
     "execution_count": 352,
     "metadata": {},
     "output_type": "execute_result"
    }
   ],
   "source": [
    "df2.head()\n"
   ]
  },
  {
   "cell_type": "code",
   "execution_count": 174,
   "id": "8566e171",
   "metadata": {},
   "outputs": [
    {
     "data": {
      "text/html": [
       "<div>\n",
       "<style scoped>\n",
       "    .dataframe tbody tr th:only-of-type {\n",
       "        vertical-align: middle;\n",
       "    }\n",
       "\n",
       "    .dataframe tbody tr th {\n",
       "        vertical-align: top;\n",
       "    }\n",
       "\n",
       "    .dataframe thead th {\n",
       "        text-align: right;\n",
       "    }\n",
       "</style>\n",
       "<table border=\"1\" class=\"dataframe\">\n",
       "  <thead>\n",
       "    <tr style=\"text-align: right;\">\n",
       "      <th></th>\n",
       "      <th>weight</th>\n",
       "      <th>dead</th>\n",
       "      <th>airbag</th>\n",
       "      <th>seatbelt</th>\n",
       "      <th>frontal</th>\n",
       "      <th>sex</th>\n",
       "      <th>ageOFocc</th>\n",
       "      <th>yearacc</th>\n",
       "      <th>yearVeh</th>\n",
       "      <th>abcat</th>\n",
       "      <th>occRole</th>\n",
       "      <th>deploy</th>\n",
       "      <th>caseid</th>\n",
       "    </tr>\n",
       "  </thead>\n",
       "  <tbody>\n",
       "    <tr>\n",
       "      <th>0</th>\n",
       "      <td>18.895</td>\n",
       "      <td>alive</td>\n",
       "      <td>airbag</td>\n",
       "      <td>belted</td>\n",
       "      <td>0</td>\n",
       "      <td>m</td>\n",
       "      <td>25</td>\n",
       "      <td>2002</td>\n",
       "      <td>2000.0</td>\n",
       "      <td>deploy</td>\n",
       "      <td>pass</td>\n",
       "      <td>1</td>\n",
       "      <td>81:99:1</td>\n",
       "    </tr>\n",
       "    <tr>\n",
       "      <th>1</th>\n",
       "      <td>266.532</td>\n",
       "      <td>alive</td>\n",
       "      <td>none</td>\n",
       "      <td>none</td>\n",
       "      <td>1</td>\n",
       "      <td>f</td>\n",
       "      <td>28</td>\n",
       "      <td>2001</td>\n",
       "      <td>1991.0</td>\n",
       "      <td>unavail</td>\n",
       "      <td>driver</td>\n",
       "      <td>0</td>\n",
       "      <td>76:12:2</td>\n",
       "    </tr>\n",
       "    <tr>\n",
       "      <th>2</th>\n",
       "      <td>51.810</td>\n",
       "      <td>alive</td>\n",
       "      <td>airbag</td>\n",
       "      <td>belted</td>\n",
       "      <td>1</td>\n",
       "      <td>f</td>\n",
       "      <td>36</td>\n",
       "      <td>1999</td>\n",
       "      <td>1994.0</td>\n",
       "      <td>deploy</td>\n",
       "      <td>driver</td>\n",
       "      <td>1</td>\n",
       "      <td>78:53:2</td>\n",
       "    </tr>\n",
       "    <tr>\n",
       "      <th>3</th>\n",
       "      <td>1567.626</td>\n",
       "      <td>alive</td>\n",
       "      <td>airbag</td>\n",
       "      <td>belted</td>\n",
       "      <td>0</td>\n",
       "      <td>f</td>\n",
       "      <td>24</td>\n",
       "      <td>2002</td>\n",
       "      <td>1994.0</td>\n",
       "      <td>nodeploy</td>\n",
       "      <td>driver</td>\n",
       "      <td>0</td>\n",
       "      <td>11:47:1</td>\n",
       "    </tr>\n",
       "    <tr>\n",
       "      <th>4</th>\n",
       "      <td>31.342</td>\n",
       "      <td>alive</td>\n",
       "      <td>none</td>\n",
       "      <td>none</td>\n",
       "      <td>1</td>\n",
       "      <td>f</td>\n",
       "      <td>46</td>\n",
       "      <td>1997</td>\n",
       "      <td>1990.0</td>\n",
       "      <td>unavail</td>\n",
       "      <td>pass</td>\n",
       "      <td>0</td>\n",
       "      <td>12:87:2</td>\n",
       "    </tr>\n",
       "  </tbody>\n",
       "</table>\n",
       "</div>"
      ],
      "text/plain": [
       "     weight   dead  airbag seatbelt  frontal sex  ageOFocc  yearacc  yearVeh  \\\n",
       "0    18.895  alive  airbag   belted        0   m        25     2002   2000.0   \n",
       "1   266.532  alive    none     none        1   f        28     2001   1991.0   \n",
       "2    51.810  alive  airbag   belted        1   f        36     1999   1994.0   \n",
       "3  1567.626  alive  airbag   belted        0   f        24     2002   1994.0   \n",
       "4    31.342  alive    none     none        1   f        46     1997   1990.0   \n",
       "\n",
       "      abcat occRole  deploy   caseid  \n",
       "0    deploy    pass       1  81:99:1  \n",
       "1   unavail  driver       0  76:12:2  \n",
       "2    deploy  driver       1  78:53:2  \n",
       "3  nodeploy  driver       0  11:47:1  \n",
       "4   unavail    pass       0  12:87:2  "
      ]
     },
     "execution_count": 174,
     "metadata": {},
     "output_type": "execute_result"
    }
   ],
   "source": [
    "df2.head()"
   ]
  },
  {
   "cell_type": "code",
   "execution_count": 175,
   "id": "0bc644d6",
   "metadata": {},
   "outputs": [
    {
     "data": {
      "text/plain": [
       "Index(['dvcat', 'weight', 'dead', 'airbag', 'seatbelt', 'frontal', 'sex',\n",
       "       'ageOFocc', 'yearacc', 'yearVeh', 'abcat', 'occRole', 'deploy',\n",
       "       'caseid', 'injSeverity'],\n",
       "      dtype='object')"
      ]
     },
     "execution_count": 175,
     "metadata": {},
     "output_type": "execute_result"
    }
   ],
   "source": [
    "df1.keys()"
   ]
  },
  {
   "cell_type": "code",
   "execution_count": 176,
   "id": "26bd6f57",
   "metadata": {},
   "outputs": [],
   "source": [
    "df_train_T = df1.loc[:, df1.columns != 'dead']"
   ]
  },
  {
   "cell_type": "code",
   "execution_count": 298,
   "id": "498d2012",
   "metadata": {},
   "outputs": [],
   "source": [
    "df_train_T['target'] = df1['dead']"
   ]
  },
  {
   "cell_type": "code",
   "execution_count": 299,
   "id": "59de25b2",
   "metadata": {},
   "outputs": [],
   "source": [
    "df_test_T = df2.loc[:,df2.columns != 'dead']"
   ]
  },
  {
   "cell_type": "code",
   "execution_count": 300,
   "id": "67f5081c",
   "metadata": {},
   "outputs": [],
   "source": [
    "df_test_T['target'] = df2['dead']"
   ]
  },
  {
   "cell_type": "code",
   "execution_count": 301,
   "id": "a0d7e2a3",
   "metadata": {},
   "outputs": [
    {
     "data": {
      "text/plain": [
       "False"
      ]
     },
     "execution_count": 301,
     "metadata": {},
     "output_type": "execute_result"
    }
   ],
   "source": [
    "df_train_T.isnull().values.any()"
   ]
  },
  {
   "cell_type": "code",
   "execution_count": 302,
   "id": "91ed5a15",
   "metadata": {},
   "outputs": [],
   "source": [
    "df_train_T.airbag[df_train_T.airbag == 'airbag'] =1\n",
    "                 "
   ]
  },
  {
   "cell_type": "code",
   "execution_count": 303,
   "id": "5b8191ba",
   "metadata": {},
   "outputs": [],
   "source": [
    "df_test_T.airbag[df_test_T.airbag == 'airbag'] =1\n",
    "df_test_T.airbag[df_test_T.airbag == 'none'] = 0\n",
    "df_test_T.seatbelt[df_test_T.seatbelt == 'belted'] =1\n",
    "df_test_T.seatbelt[df_test_T.seatbelt == 'none'] =0\n",
    "df_test_T.sex[df_test_T.sex == 'f'] =1\n",
    "df_test_T.sex[df_test_T.sex == 'm'] =2\n",
    "df_test_T.abcat[df_test_T.abcat == 'deploy'] =1\n",
    "df_test_T.abcat[df_test_T.abcat == 'nodeploy'] =2\n",
    "df_test_T.abcat[df_test_T.abcat == 'unavail'] =0\n",
    "df_test_T.occRole[df_test_T.occRole == 'driver'] =1\n",
    "df_test_T.occRole[df_test_T.occRole == 'pass'] =0\n",
    "df_test_T.target[df_test_T.target == 'dead'] =0\n",
    "df_test_T.target[df_test_T.target == 'alive'] =1"
   ]
  },
  {
   "cell_type": "code",
   "execution_count": 304,
   "id": "3f8a8ea7",
   "metadata": {},
   "outputs": [
    {
     "data": {
      "text/html": [
       "<div>\n",
       "<style scoped>\n",
       "    .dataframe tbody tr th:only-of-type {\n",
       "        vertical-align: middle;\n",
       "    }\n",
       "\n",
       "    .dataframe tbody tr th {\n",
       "        vertical-align: top;\n",
       "    }\n",
       "\n",
       "    .dataframe thead th {\n",
       "        text-align: right;\n",
       "    }\n",
       "</style>\n",
       "<table border=\"1\" class=\"dataframe\">\n",
       "  <thead>\n",
       "    <tr style=\"text-align: right;\">\n",
       "      <th></th>\n",
       "      <th>weight</th>\n",
       "      <th>airbag</th>\n",
       "      <th>seatbelt</th>\n",
       "      <th>frontal</th>\n",
       "      <th>sex</th>\n",
       "      <th>ageOFocc</th>\n",
       "      <th>yearacc</th>\n",
       "      <th>yearVeh</th>\n",
       "      <th>abcat</th>\n",
       "      <th>occRole</th>\n",
       "      <th>deploy</th>\n",
       "      <th>caseid</th>\n",
       "      <th>target</th>\n",
       "    </tr>\n",
       "  </thead>\n",
       "  <tbody>\n",
       "    <tr>\n",
       "      <th>0</th>\n",
       "      <td>18.895</td>\n",
       "      <td>1</td>\n",
       "      <td>1</td>\n",
       "      <td>0</td>\n",
       "      <td>2</td>\n",
       "      <td>25</td>\n",
       "      <td>2002</td>\n",
       "      <td>2000.0</td>\n",
       "      <td>1</td>\n",
       "      <td>0</td>\n",
       "      <td>1</td>\n",
       "      <td>81:99:1</td>\n",
       "      <td>1</td>\n",
       "    </tr>\n",
       "    <tr>\n",
       "      <th>1</th>\n",
       "      <td>266.532</td>\n",
       "      <td>0</td>\n",
       "      <td>0</td>\n",
       "      <td>1</td>\n",
       "      <td>1</td>\n",
       "      <td>28</td>\n",
       "      <td>2001</td>\n",
       "      <td>1991.0</td>\n",
       "      <td>0</td>\n",
       "      <td>1</td>\n",
       "      <td>0</td>\n",
       "      <td>76:12:2</td>\n",
       "      <td>1</td>\n",
       "    </tr>\n",
       "    <tr>\n",
       "      <th>2</th>\n",
       "      <td>51.810</td>\n",
       "      <td>1</td>\n",
       "      <td>1</td>\n",
       "      <td>1</td>\n",
       "      <td>1</td>\n",
       "      <td>36</td>\n",
       "      <td>1999</td>\n",
       "      <td>1994.0</td>\n",
       "      <td>1</td>\n",
       "      <td>1</td>\n",
       "      <td>1</td>\n",
       "      <td>78:53:2</td>\n",
       "      <td>1</td>\n",
       "    </tr>\n",
       "    <tr>\n",
       "      <th>3</th>\n",
       "      <td>1567.626</td>\n",
       "      <td>1</td>\n",
       "      <td>1</td>\n",
       "      <td>0</td>\n",
       "      <td>1</td>\n",
       "      <td>24</td>\n",
       "      <td>2002</td>\n",
       "      <td>1994.0</td>\n",
       "      <td>2</td>\n",
       "      <td>1</td>\n",
       "      <td>0</td>\n",
       "      <td>11:47:1</td>\n",
       "      <td>1</td>\n",
       "    </tr>\n",
       "    <tr>\n",
       "      <th>4</th>\n",
       "      <td>31.342</td>\n",
       "      <td>0</td>\n",
       "      <td>0</td>\n",
       "      <td>1</td>\n",
       "      <td>1</td>\n",
       "      <td>46</td>\n",
       "      <td>1997</td>\n",
       "      <td>1990.0</td>\n",
       "      <td>0</td>\n",
       "      <td>0</td>\n",
       "      <td>0</td>\n",
       "      <td>12:87:2</td>\n",
       "      <td>1</td>\n",
       "    </tr>\n",
       "  </tbody>\n",
       "</table>\n",
       "</div>"
      ],
      "text/plain": [
       "     weight airbag seatbelt  frontal sex  ageOFocc  yearacc  yearVeh abcat  \\\n",
       "0    18.895      1        1        0   2        25     2002   2000.0     1   \n",
       "1   266.532      0        0        1   1        28     2001   1991.0     0   \n",
       "2    51.810      1        1        1   1        36     1999   1994.0     1   \n",
       "3  1567.626      1        1        0   1        24     2002   1994.0     2   \n",
       "4    31.342      0        0        1   1        46     1997   1990.0     0   \n",
       "\n",
       "  occRole  deploy   caseid target  \n",
       "0       0       1  81:99:1      1  \n",
       "1       1       0  76:12:2      1  \n",
       "2       1       1  78:53:2      1  \n",
       "3       1       0  11:47:1      1  \n",
       "4       0       0  12:87:2      1  "
      ]
     },
     "execution_count": 304,
     "metadata": {},
     "output_type": "execute_result"
    }
   ],
   "source": [
    "df_test_T.head()"
   ]
  },
  {
   "cell_type": "code",
   "execution_count": 305,
   "id": "bfcffa31",
   "metadata": {},
   "outputs": [],
   "source": [
    "df_train_T.airbag[df_train_T.airbag == 'none'] = 0"
   ]
  },
  {
   "cell_type": "code",
   "execution_count": 306,
   "id": "bdb84033",
   "metadata": {},
   "outputs": [],
   "source": [
    "df_train_T.seatbelt[df_train_T.seatbelt == 'belted'] =1"
   ]
  },
  {
   "cell_type": "code",
   "execution_count": 307,
   "id": "618db097",
   "metadata": {},
   "outputs": [],
   "source": [
    "df_train_T.seatbelt[df_train_T.seatbelt == 'none'] =0"
   ]
  },
  {
   "cell_type": "code",
   "execution_count": 308,
   "id": "1da0df70",
   "metadata": {},
   "outputs": [],
   "source": [
    "df_train_T.sex[df_train_T.sex == 'f'] =1\n",
    "df_train_T.sex[df_train_T.sex == 'm'] =2\n",
    "df_train_T.abcat[df_train_T.abcat == 'deploy'] =1\n",
    "df_train_T.abcat[df_train_T.abcat == 'nodeploy'] =2\n",
    "df_train_T.abcat[df_train_T.abcat == 'unavail'] =0"
   ]
  },
  {
   "cell_type": "code",
   "execution_count": 319,
   "id": "4e00dcfa",
   "metadata": {},
   "outputs": [],
   "source": [
    "df_train_T.occRole[df_train_T.occRole == 'driver'] =1\n",
    "df_train_T.occRole[df_train_T.occRole == 'pass'] =0"
   ]
  },
  {
   "cell_type": "code",
   "execution_count": 320,
   "id": "e4479fcf",
   "metadata": {},
   "outputs": [],
   "source": [
    "df_train_T.target[df_train_T.target == 'dead'] =0\n",
    "df_train_T.target[df_train_T.target == 'alive'] =1\n"
   ]
  },
  {
   "cell_type": "code",
   "execution_count": 312,
   "id": "13398b37",
   "metadata": {},
   "outputs": [],
   "source": [
    "df_test_T=df_test_T.drop(['yearVeh'],axis=1)"
   ]
  },
  {
   "cell_type": "code",
   "execution_count": 324,
   "id": "b050a9e0",
   "metadata": {},
   "outputs": [
    {
     "data": {
      "text/html": [
       "<div>\n",
       "<style scoped>\n",
       "    .dataframe tbody tr th:only-of-type {\n",
       "        vertical-align: middle;\n",
       "    }\n",
       "\n",
       "    .dataframe tbody tr th {\n",
       "        vertical-align: top;\n",
       "    }\n",
       "\n",
       "    .dataframe thead th {\n",
       "        text-align: right;\n",
       "    }\n",
       "</style>\n",
       "<table border=\"1\" class=\"dataframe\">\n",
       "  <thead>\n",
       "    <tr style=\"text-align: right;\">\n",
       "      <th></th>\n",
       "      <th>weight</th>\n",
       "      <th>airbag</th>\n",
       "      <th>seatbelt</th>\n",
       "      <th>frontal</th>\n",
       "      <th>sex</th>\n",
       "      <th>ageOFocc</th>\n",
       "      <th>yearacc</th>\n",
       "      <th>abcat</th>\n",
       "      <th>occRole</th>\n",
       "      <th>deploy</th>\n",
       "      <th>target</th>\n",
       "    </tr>\n",
       "  </thead>\n",
       "  <tbody>\n",
       "    <tr>\n",
       "      <th>0</th>\n",
       "      <td>53</td>\n",
       "      <td>1</td>\n",
       "      <td>1</td>\n",
       "      <td>1</td>\n",
       "      <td>1</td>\n",
       "      <td>48</td>\n",
       "      <td>2002</td>\n",
       "      <td>1</td>\n",
       "      <td>1</td>\n",
       "      <td>1</td>\n",
       "      <td>0</td>\n",
       "    </tr>\n",
       "    <tr>\n",
       "      <th>1</th>\n",
       "      <td>154</td>\n",
       "      <td>0</td>\n",
       "      <td>0</td>\n",
       "      <td>1</td>\n",
       "      <td>2</td>\n",
       "      <td>26</td>\n",
       "      <td>2001</td>\n",
       "      <td>0</td>\n",
       "      <td>1</td>\n",
       "      <td>0</td>\n",
       "      <td>1</td>\n",
       "    </tr>\n",
       "    <tr>\n",
       "      <th>2</th>\n",
       "      <td>38</td>\n",
       "      <td>0</td>\n",
       "      <td>0</td>\n",
       "      <td>1</td>\n",
       "      <td>1</td>\n",
       "      <td>51</td>\n",
       "      <td>2002</td>\n",
       "      <td>0</td>\n",
       "      <td>1</td>\n",
       "      <td>0</td>\n",
       "      <td>1</td>\n",
       "    </tr>\n",
       "    <tr>\n",
       "      <th>3</th>\n",
       "      <td>168</td>\n",
       "      <td>1</td>\n",
       "      <td>1</td>\n",
       "      <td>1</td>\n",
       "      <td>2</td>\n",
       "      <td>27</td>\n",
       "      <td>1998</td>\n",
       "      <td>1</td>\n",
       "      <td>0</td>\n",
       "      <td>1</td>\n",
       "      <td>1</td>\n",
       "    </tr>\n",
       "    <tr>\n",
       "      <th>4</th>\n",
       "      <td>27</td>\n",
       "      <td>1</td>\n",
       "      <td>1</td>\n",
       "      <td>0</td>\n",
       "      <td>2</td>\n",
       "      <td>26</td>\n",
       "      <td>2002</td>\n",
       "      <td>2</td>\n",
       "      <td>0</td>\n",
       "      <td>0</td>\n",
       "      <td>1</td>\n",
       "    </tr>\n",
       "  </tbody>\n",
       "</table>\n",
       "</div>"
      ],
      "text/plain": [
       "   weight  airbag  seatbelt  frontal  sex  ageOFocc  yearacc  abcat  occRole  \\\n",
       "0      53       1         1        1    1        48     2002      1        1   \n",
       "1     154       0         0        1    2        26     2001      0        1   \n",
       "2      38       0         0        1    1        51     2002      0        1   \n",
       "3     168       1         1        1    2        27     1998      1        0   \n",
       "4      27       1         1        0    2        26     2002      2        0   \n",
       "\n",
       "   deploy target  \n",
       "0       1      0  \n",
       "1       0      1  \n",
       "2       0      1  \n",
       "3       1      1  \n",
       "4       0      1  "
      ]
     },
     "execution_count": 324,
     "metadata": {},
     "output_type": "execute_result"
    }
   ],
   "source": [
    "df_train_T.head(5)"
   ]
  },
  {
   "cell_type": "code",
   "execution_count": 325,
   "id": "bd880150",
   "metadata": {
    "scrolled": false
   },
   "outputs": [
    {
     "data": {
      "text/html": [
       "<div>\n",
       "<style scoped>\n",
       "    .dataframe tbody tr th:only-of-type {\n",
       "        vertical-align: middle;\n",
       "    }\n",
       "\n",
       "    .dataframe tbody tr th {\n",
       "        vertical-align: top;\n",
       "    }\n",
       "\n",
       "    .dataframe thead th {\n",
       "        text-align: right;\n",
       "    }\n",
       "</style>\n",
       "<table border=\"1\" class=\"dataframe\">\n",
       "  <thead>\n",
       "    <tr style=\"text-align: right;\">\n",
       "      <th></th>\n",
       "      <th>weight</th>\n",
       "      <th>airbag</th>\n",
       "      <th>seatbelt</th>\n",
       "      <th>frontal</th>\n",
       "      <th>sex</th>\n",
       "      <th>ageOFocc</th>\n",
       "      <th>yearacc</th>\n",
       "      <th>abcat</th>\n",
       "      <th>occRole</th>\n",
       "      <th>deploy</th>\n",
       "      <th>caseid</th>\n",
       "      <th>target</th>\n",
       "    </tr>\n",
       "  </thead>\n",
       "  <tbody>\n",
       "    <tr>\n",
       "      <th>0</th>\n",
       "      <td>18</td>\n",
       "      <td>1</td>\n",
       "      <td>1</td>\n",
       "      <td>0</td>\n",
       "      <td>2</td>\n",
       "      <td>25</td>\n",
       "      <td>2002</td>\n",
       "      <td>1</td>\n",
       "      <td>0</td>\n",
       "      <td>1</td>\n",
       "      <td>81:99:1</td>\n",
       "      <td>1</td>\n",
       "    </tr>\n",
       "    <tr>\n",
       "      <th>1</th>\n",
       "      <td>266</td>\n",
       "      <td>0</td>\n",
       "      <td>0</td>\n",
       "      <td>1</td>\n",
       "      <td>1</td>\n",
       "      <td>28</td>\n",
       "      <td>2001</td>\n",
       "      <td>0</td>\n",
       "      <td>1</td>\n",
       "      <td>0</td>\n",
       "      <td>76:12:2</td>\n",
       "      <td>1</td>\n",
       "    </tr>\n",
       "    <tr>\n",
       "      <th>2</th>\n",
       "      <td>51</td>\n",
       "      <td>1</td>\n",
       "      <td>1</td>\n",
       "      <td>1</td>\n",
       "      <td>1</td>\n",
       "      <td>36</td>\n",
       "      <td>1999</td>\n",
       "      <td>1</td>\n",
       "      <td>1</td>\n",
       "      <td>1</td>\n",
       "      <td>78:53:2</td>\n",
       "      <td>1</td>\n",
       "    </tr>\n",
       "    <tr>\n",
       "      <th>3</th>\n",
       "      <td>1567</td>\n",
       "      <td>1</td>\n",
       "      <td>1</td>\n",
       "      <td>0</td>\n",
       "      <td>1</td>\n",
       "      <td>24</td>\n",
       "      <td>2002</td>\n",
       "      <td>2</td>\n",
       "      <td>1</td>\n",
       "      <td>0</td>\n",
       "      <td>11:47:1</td>\n",
       "      <td>1</td>\n",
       "    </tr>\n",
       "    <tr>\n",
       "      <th>4</th>\n",
       "      <td>31</td>\n",
       "      <td>0</td>\n",
       "      <td>0</td>\n",
       "      <td>1</td>\n",
       "      <td>1</td>\n",
       "      <td>46</td>\n",
       "      <td>1997</td>\n",
       "      <td>0</td>\n",
       "      <td>0</td>\n",
       "      <td>0</td>\n",
       "      <td>12:87:2</td>\n",
       "      <td>1</td>\n",
       "    </tr>\n",
       "  </tbody>\n",
       "</table>\n",
       "</div>"
      ],
      "text/plain": [
       "   weight  airbag  seatbelt  frontal  sex  ageOFocc  yearacc  abcat  occRole  \\\n",
       "0      18       1         1        0    2        25     2002      1        0   \n",
       "1     266       0         0        1    1        28     2001      0        1   \n",
       "2      51       1         1        1    1        36     1999      1        1   \n",
       "3    1567       1         1        0    1        24     2002      2        1   \n",
       "4      31       0         0        1    1        46     1997      0        0   \n",
       "\n",
       "   deploy   caseid target  \n",
       "0       1  81:99:1      1  \n",
       "1       0  76:12:2      1  \n",
       "2       1  78:53:2      1  \n",
       "3       0  11:47:1      1  \n",
       "4       0  12:87:2      1  "
      ]
     },
     "execution_count": 325,
     "metadata": {},
     "output_type": "execute_result"
    }
   ],
   "source": [
    "df_test_T.head()"
   ]
  },
  {
   "cell_type": "code",
   "execution_count": 339,
   "id": "596938e5",
   "metadata": {
    "scrolled": true
   },
   "outputs": [],
   "source": [
    "df_test_T['weight'] = df_test_T['weight'].astype(int)\n",
    "df_test_T['airbag'] = df_test_T['airbag'].astype(int)\n",
    "df_test_T['seatbelt'] = df_test_T['seatbelt'].astype(int)\n",
    "df_test_T['sex'] = df_test_T['sex'].astype(int)\n",
    "df_test_T['abcat'] = df_test_T['abcat'].astype(int)\n",
    "df_test_T['occRole'] = df_test_T['occRole'].astype(int)\n",
    "df_train_T['target'] = df_train_T['target'].astype(int)\n",
    "df_test_T['target'] = df_test_T['target'].astype(int)"
   ]
  },
  {
   "cell_type": "code",
   "execution_count": 340,
   "id": "f179760c",
   "metadata": {},
   "outputs": [
    {
     "data": {
      "text/plain": [
       "weight      int32\n",
       "airbag      int32\n",
       "seatbelt    int32\n",
       "frontal     int64\n",
       "sex         int32\n",
       "ageOFocc    int64\n",
       "yearacc     int64\n",
       "abcat       int32\n",
       "occRole     int32\n",
       "deploy      int64\n",
       "target      int32\n",
       "dtype: object"
      ]
     },
     "execution_count": 340,
     "metadata": {},
     "output_type": "execute_result"
    }
   ],
   "source": [
    "df_train_T.dtypes"
   ]
  },
  {
   "cell_type": "code",
   "execution_count": 342,
   "id": "db122557",
   "metadata": {},
   "outputs": [],
   "source": [
    "df_test_T = df_test_T.drop(['caseid'],axis=1)"
   ]
  },
  {
   "cell_type": "code",
   "execution_count": 343,
   "id": "f2e6529d",
   "metadata": {},
   "outputs": [
    {
     "data": {
      "text/plain": [
       "weight      int32\n",
       "airbag      int32\n",
       "seatbelt    int32\n",
       "frontal     int64\n",
       "sex         int32\n",
       "ageOFocc    int64\n",
       "yearacc     int64\n",
       "abcat       int32\n",
       "occRole     int32\n",
       "deploy      int64\n",
       "target      int32\n",
       "dtype: object"
      ]
     },
     "execution_count": 343,
     "metadata": {},
     "output_type": "execute_result"
    }
   ],
   "source": [
    "df_test_T.dtypes"
   ]
  },
  {
   "cell_type": "code",
   "execution_count": 344,
   "id": "f9b15599",
   "metadata": {},
   "outputs": [
    {
     "data": {
      "text/html": [
       "<div>\n",
       "<style scoped>\n",
       "    .dataframe tbody tr th:only-of-type {\n",
       "        vertical-align: middle;\n",
       "    }\n",
       "\n",
       "    .dataframe tbody tr th {\n",
       "        vertical-align: top;\n",
       "    }\n",
       "\n",
       "    .dataframe thead th {\n",
       "        text-align: right;\n",
       "    }\n",
       "</style>\n",
       "<table border=\"1\" class=\"dataframe\">\n",
       "  <thead>\n",
       "    <tr style=\"text-align: right;\">\n",
       "      <th></th>\n",
       "      <th>weight</th>\n",
       "      <th>airbag</th>\n",
       "      <th>seatbelt</th>\n",
       "      <th>frontal</th>\n",
       "      <th>sex</th>\n",
       "      <th>ageOFocc</th>\n",
       "      <th>yearacc</th>\n",
       "      <th>abcat</th>\n",
       "      <th>occRole</th>\n",
       "      <th>deploy</th>\n",
       "      <th>target</th>\n",
       "    </tr>\n",
       "  </thead>\n",
       "  <tbody>\n",
       "    <tr>\n",
       "      <th>0</th>\n",
       "      <td>53</td>\n",
       "      <td>1</td>\n",
       "      <td>1</td>\n",
       "      <td>1</td>\n",
       "      <td>1</td>\n",
       "      <td>48</td>\n",
       "      <td>2002</td>\n",
       "      <td>1</td>\n",
       "      <td>1</td>\n",
       "      <td>1</td>\n",
       "      <td>0</td>\n",
       "    </tr>\n",
       "    <tr>\n",
       "      <th>1</th>\n",
       "      <td>154</td>\n",
       "      <td>0</td>\n",
       "      <td>0</td>\n",
       "      <td>1</td>\n",
       "      <td>2</td>\n",
       "      <td>26</td>\n",
       "      <td>2001</td>\n",
       "      <td>0</td>\n",
       "      <td>1</td>\n",
       "      <td>0</td>\n",
       "      <td>1</td>\n",
       "    </tr>\n",
       "    <tr>\n",
       "      <th>2</th>\n",
       "      <td>38</td>\n",
       "      <td>0</td>\n",
       "      <td>0</td>\n",
       "      <td>1</td>\n",
       "      <td>1</td>\n",
       "      <td>51</td>\n",
       "      <td>2002</td>\n",
       "      <td>0</td>\n",
       "      <td>1</td>\n",
       "      <td>0</td>\n",
       "      <td>1</td>\n",
       "    </tr>\n",
       "    <tr>\n",
       "      <th>3</th>\n",
       "      <td>168</td>\n",
       "      <td>1</td>\n",
       "      <td>1</td>\n",
       "      <td>1</td>\n",
       "      <td>2</td>\n",
       "      <td>27</td>\n",
       "      <td>1998</td>\n",
       "      <td>1</td>\n",
       "      <td>0</td>\n",
       "      <td>1</td>\n",
       "      <td>1</td>\n",
       "    </tr>\n",
       "    <tr>\n",
       "      <th>4</th>\n",
       "      <td>27</td>\n",
       "      <td>1</td>\n",
       "      <td>1</td>\n",
       "      <td>0</td>\n",
       "      <td>2</td>\n",
       "      <td>26</td>\n",
       "      <td>2002</td>\n",
       "      <td>2</td>\n",
       "      <td>0</td>\n",
       "      <td>0</td>\n",
       "      <td>1</td>\n",
       "    </tr>\n",
       "  </tbody>\n",
       "</table>\n",
       "</div>"
      ],
      "text/plain": [
       "   weight  airbag  seatbelt  frontal  sex  ageOFocc  yearacc  abcat  occRole  \\\n",
       "0      53       1         1        1    1        48     2002      1        1   \n",
       "1     154       0         0        1    2        26     2001      0        1   \n",
       "2      38       0         0        1    1        51     2002      0        1   \n",
       "3     168       1         1        1    2        27     1998      1        0   \n",
       "4      27       1         1        0    2        26     2002      2        0   \n",
       "\n",
       "   deploy  target  \n",
       "0       1       0  \n",
       "1       0       1  \n",
       "2       0       1  \n",
       "3       1       1  \n",
       "4       0       1  "
      ]
     },
     "execution_count": 344,
     "metadata": {},
     "output_type": "execute_result"
    }
   ],
   "source": [
    "df_train_T.head()"
   ]
  },
  {
   "cell_type": "code",
   "execution_count": 345,
   "id": "fa1a5602",
   "metadata": {},
   "outputs": [
    {
     "data": {
      "text/html": [
       "<div>\n",
       "<style scoped>\n",
       "    .dataframe tbody tr th:only-of-type {\n",
       "        vertical-align: middle;\n",
       "    }\n",
       "\n",
       "    .dataframe tbody tr th {\n",
       "        vertical-align: top;\n",
       "    }\n",
       "\n",
       "    .dataframe thead th {\n",
       "        text-align: right;\n",
       "    }\n",
       "</style>\n",
       "<table border=\"1\" class=\"dataframe\">\n",
       "  <thead>\n",
       "    <tr style=\"text-align: right;\">\n",
       "      <th></th>\n",
       "      <th>weight</th>\n",
       "      <th>airbag</th>\n",
       "      <th>seatbelt</th>\n",
       "      <th>frontal</th>\n",
       "      <th>sex</th>\n",
       "      <th>ageOFocc</th>\n",
       "      <th>yearacc</th>\n",
       "      <th>abcat</th>\n",
       "      <th>occRole</th>\n",
       "      <th>deploy</th>\n",
       "      <th>target</th>\n",
       "    </tr>\n",
       "  </thead>\n",
       "  <tbody>\n",
       "    <tr>\n",
       "      <th>0</th>\n",
       "      <td>18</td>\n",
       "      <td>1</td>\n",
       "      <td>1</td>\n",
       "      <td>0</td>\n",
       "      <td>2</td>\n",
       "      <td>25</td>\n",
       "      <td>2002</td>\n",
       "      <td>1</td>\n",
       "      <td>0</td>\n",
       "      <td>1</td>\n",
       "      <td>1</td>\n",
       "    </tr>\n",
       "    <tr>\n",
       "      <th>1</th>\n",
       "      <td>266</td>\n",
       "      <td>0</td>\n",
       "      <td>0</td>\n",
       "      <td>1</td>\n",
       "      <td>1</td>\n",
       "      <td>28</td>\n",
       "      <td>2001</td>\n",
       "      <td>0</td>\n",
       "      <td>1</td>\n",
       "      <td>0</td>\n",
       "      <td>1</td>\n",
       "    </tr>\n",
       "    <tr>\n",
       "      <th>2</th>\n",
       "      <td>51</td>\n",
       "      <td>1</td>\n",
       "      <td>1</td>\n",
       "      <td>1</td>\n",
       "      <td>1</td>\n",
       "      <td>36</td>\n",
       "      <td>1999</td>\n",
       "      <td>1</td>\n",
       "      <td>1</td>\n",
       "      <td>1</td>\n",
       "      <td>1</td>\n",
       "    </tr>\n",
       "    <tr>\n",
       "      <th>3</th>\n",
       "      <td>1567</td>\n",
       "      <td>1</td>\n",
       "      <td>1</td>\n",
       "      <td>0</td>\n",
       "      <td>1</td>\n",
       "      <td>24</td>\n",
       "      <td>2002</td>\n",
       "      <td>2</td>\n",
       "      <td>1</td>\n",
       "      <td>0</td>\n",
       "      <td>1</td>\n",
       "    </tr>\n",
       "    <tr>\n",
       "      <th>4</th>\n",
       "      <td>31</td>\n",
       "      <td>0</td>\n",
       "      <td>0</td>\n",
       "      <td>1</td>\n",
       "      <td>1</td>\n",
       "      <td>46</td>\n",
       "      <td>1997</td>\n",
       "      <td>0</td>\n",
       "      <td>0</td>\n",
       "      <td>0</td>\n",
       "      <td>1</td>\n",
       "    </tr>\n",
       "  </tbody>\n",
       "</table>\n",
       "</div>"
      ],
      "text/plain": [
       "   weight  airbag  seatbelt  frontal  sex  ageOFocc  yearacc  abcat  occRole  \\\n",
       "0      18       1         1        0    2        25     2002      1        0   \n",
       "1     266       0         0        1    1        28     2001      0        1   \n",
       "2      51       1         1        1    1        36     1999      1        1   \n",
       "3    1567       1         1        0    1        24     2002      2        1   \n",
       "4      31       0         0        1    1        46     1997      0        0   \n",
       "\n",
       "   deploy  target  \n",
       "0       1       1  \n",
       "1       0       1  \n",
       "2       1       1  \n",
       "3       0       1  \n",
       "4       0       1  "
      ]
     },
     "execution_count": 345,
     "metadata": {},
     "output_type": "execute_result"
    }
   ],
   "source": [
    "df_test_T.head()"
   ]
  },
  {
   "cell_type": "code",
   "execution_count": 346,
   "id": "9d1ca93e",
   "metadata": {
    "scrolled": true
   },
   "outputs": [
    {
     "data": {
      "text/plain": [
       "(17565, 11)"
      ]
     },
     "execution_count": 346,
     "metadata": {},
     "output_type": "execute_result"
    }
   ],
   "source": [
    "df_train_T.shape"
   ]
  },
  {
   "cell_type": "code",
   "execution_count": 347,
   "id": "91349b39",
   "metadata": {},
   "outputs": [
    {
     "data": {
      "text/plain": [
       "(8652, 11)"
      ]
     },
     "execution_count": 347,
     "metadata": {},
     "output_type": "execute_result"
    }
   ],
   "source": [
    "df_test_T.shape"
   ]
  },
  {
   "cell_type": "code",
   "execution_count": 364,
   "id": "b1a6677f",
   "metadata": {},
   "outputs": [],
   "source": [
    "knn = KNeighborsClassifier(n_neighbors=5)\n",
    "fit = knn.fit(df_train_T.iloc[:,:-1],df_train_T['target'])"
   ]
  },
  {
   "cell_type": "code",
   "execution_count": 365,
   "id": "60adf130",
   "metadata": {},
   "outputs": [],
   "source": [
    "gauss = GaussianNB()\n",
    "fitG = gauss.fit(df_train_T.iloc[:,:-1],df_train_T['target'])"
   ]
  },
  {
   "cell_type": "code",
   "execution_count": 366,
   "id": "a282a94b",
   "metadata": {},
   "outputs": [],
   "source": [
    "predict = fit.predict(df_test_T.iloc[:,:-1])"
   ]
  },
  {
   "cell_type": "code",
   "execution_count": 367,
   "id": "b1f90d9e",
   "metadata": {},
   "outputs": [],
   "source": [
    "predict2 = fitG.predict(df_test_T.iloc[:,:-1])"
   ]
  },
  {
   "cell_type": "code",
   "execution_count": 368,
   "id": "40eed7f0",
   "metadata": {},
   "outputs": [
    {
     "name": "stdout",
     "output_type": "stream",
     "text": [
      "0.9514563106796117\n",
      "0.8495145631067961\n"
     ]
    }
   ],
   "source": [
    "print(accuracy_score(df_test_T['target'],predict))\n",
    "print(accuracy_score(df_test_T['target'],predict2))"
   ]
  },
  {
   "cell_type": "code",
   "execution_count": null,
   "id": "020fb3e1",
   "metadata": {},
   "outputs": [],
   "source": []
  }
 ],
 "metadata": {
  "kernelspec": {
   "display_name": "Python 3",
   "language": "python",
   "name": "python3"
  },
  "language_info": {
   "codemirror_mode": {
    "name": "ipython",
    "version": 3
   },
   "file_extension": ".py",
   "mimetype": "text/x-python",
   "name": "python",
   "nbconvert_exporter": "python",
   "pygments_lexer": "ipython3",
   "version": "3.8.8"
  }
 },
 "nbformat": 4,
 "nbformat_minor": 5
}
